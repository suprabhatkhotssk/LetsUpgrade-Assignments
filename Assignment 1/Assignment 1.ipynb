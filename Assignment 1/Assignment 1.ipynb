{
 "cells": [
  {
   "cell_type": "markdown",
   "metadata": {},
   "source": [
    "B] RAINBOW"
   ]
  },
  {
   "cell_type": "markdown",
   "metadata": {},
   "source": [
    "Question NO 2"
   ]
  },
  {
   "cell_type": "code",
   "execution_count": 3,
   "metadata": {},
   "outputs": [
    {
     "name": "stdout",
     "output_type": "stream",
     "text": [
      "LETS UPGRADE\n"
     ]
    }
   ],
   "source": [
    "print('LETS UPGRADE')"
   ]
  },
  {
   "cell_type": "markdown",
   "metadata": {},
   "source": [
    "Question NO 3"
   ]
  },
  {
   "cell_type": "code",
   "execution_count": 5,
   "metadata": {},
   "outputs": [
    {
     "name": "stdout",
     "output_type": "stream",
     "text": [
      "20\n",
      "30\n",
      "Profit\n"
     ]
    }
   ],
   "source": [
    "cost=int(input())\n",
    "selling=int(input())\n",
    "\n",
    "if cost<selling:\n",
    "    print('Profit')\n",
    "elif cost>selling:\n",
    "    print('Loss')\n",
    "else:\n",
    "    print('Neither')"
   ]
  },
  {
   "cell_type": "code",
   "execution_count": 6,
   "metadata": {},
   "outputs": [
    {
     "name": "stdout",
     "output_type": "stream",
     "text": [
      "20\n",
      "10\n",
      "Loss\n"
     ]
    }
   ],
   "source": [
    "cost=int(input())\n",
    "selling=int(input())\n",
    "\n",
    "if cost<selling:\n",
    "    print('Profit')\n",
    "elif cost>selling:\n",
    "    print('Loss')\n",
    "else:\n",
    "    print('Neither')"
   ]
  },
  {
   "cell_type": "code",
   "execution_count": 8,
   "metadata": {},
   "outputs": [
    {
     "name": "stdout",
     "output_type": "stream",
     "text": [
      "20\n",
      "20\n",
      "Neither\n"
     ]
    }
   ],
   "source": [
    "cost=int(input())\n",
    "selling=int(input())\n",
    "\n",
    "if cost<selling:\n",
    "    print('Profit')\n",
    "elif cost>selling:\n",
    "    print('Loss')\n",
    "else:\n",
    "    print('Neither')"
   ]
  },
  {
   "cell_type": "markdown",
   "metadata": {},
   "source": [
    "Question NO 4"
   ]
  },
  {
   "cell_type": "code",
   "execution_count": 9,
   "metadata": {},
   "outputs": [
    {
     "name": "stdout",
     "output_type": "stream",
     "text": [
      "20\n",
      "1600\n"
     ]
    }
   ],
   "source": [
    "eu=int(input())\n",
    "print(eu*80)"
   ]
  },
  {
   "cell_type": "code",
   "execution_count": 10,
   "metadata": {},
   "outputs": [
    {
     "name": "stdout",
     "output_type": "stream",
     "text": [
      "50\n",
      "4000\n"
     ]
    }
   ],
   "source": [
    "eu=int(input())\n",
    "print(eu*80)"
   ]
  },
  {
   "cell_type": "code",
   "execution_count": null,
   "metadata": {},
   "outputs": [],
   "source": []
  }
 ],
 "metadata": {
  "kernelspec": {
   "display_name": "Python 3",
   "language": "python",
   "name": "python3"
  },
  "language_info": {
   "codemirror_mode": {
    "name": "ipython",
    "version": 3
   },
   "file_extension": ".py",
   "mimetype": "text/x-python",
   "name": "python",
   "nbconvert_exporter": "python",
   "pygments_lexer": "ipython3",
   "version": "3.7.4"
  }
 },
 "nbformat": 4,
 "nbformat_minor": 2
}
